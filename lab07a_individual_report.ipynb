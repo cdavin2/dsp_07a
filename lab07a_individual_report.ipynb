{
 "cells": [
  {
   "cell_type": "markdown",
   "metadata": {},
   "source": [
    "<h1><center>\n",
    "    ECE 438 - Laboratory 7a<br/>\n",
    "    Discrete-Time Random Process (Week 1)<br/>\n",
    "    <small>Last updated on March 1, 2022</small><br/>\n",
    "    <br/>\n",
    "    Date:<br/>\n",
    "    Section:<br/>\n",
    "</center></h1>"
   ]
  },
  {
   "cell_type": "markdown",
   "metadata": {},
   "source": [
    "|Name |Signature |Time spent outside lab|\n",
    "|:---:|:---:|:---:|\n",
    "|Student Name #1 [---%]| | |\n",
    "|Student Name #2 [---%]| | |"
   ]
  },
  {
   "cell_type": "markdown",
   "metadata": {},
   "source": [
    "||Below expectations| Lacks in some respect|Meets all expectations|\n",
    "|:---:|:---:|:---:|:---:|\n",
    "|**Completeness of the report**||||\n",
    "|**Organization of the report**||||\n",
    "|**Quality of figures**: *Correctly labeled with title, x-axis, y-axis, and name(s)*||||\n",
    "|**Understanding of random variables and linear transformations (35 pts)**: *Plots, sample means and variances of $X$ and $Y$, derivation of mean and variance of $Y$, transformation and pdf of $Y$, Python code, questions*||||\n",
    "|**Understanding of CDF estimation (20 pts)**: *Python code and plots*||||\n",
    "|**Understanding of generating samples from a given distribution (20 pts)**: *Derivation of transformation, Python code, plots*||||\n",
    "|**Understanding of PDF estimation (25 pts)**: *Plots, questions*||||"
   ]
  },
  {
   "cell_type": "code",
   "execution_count": null,
   "metadata": {},
   "outputs": [],
   "source": [
    "import numpy as np\n",
    "import matplotlib.pyplot as plt"
   ]
  },
  {
   "cell_type": "code",
   "execution_count": null,
   "metadata": {},
   "outputs": [],
   "source": [
    "# make sure the plot is displayed in this notebook\n",
    "%matplotlib inline\n",
    "# specify the size of the plot\n",
    "plt.rcParams['figure.figsize'] = (16, 6)\n",
    "\n",
    "# for auto-reloading extenrnal modules\n",
    "%load_ext autoreload\n",
    "%autoreload 2"
   ]
  },
  {
   "cell_type": "markdown",
   "metadata": {},
   "source": [
    "<h3 style=\"color:red;\"><left>Exercise 2.1</left></h3>"
   ]
  },
  {
   "cell_type": "markdown",
   "metadata": {},
   "source": [
    "**1. Use the Python function [`np.random.normal(loc=0, scale=1, size=1000)`](https://numpy.org/doc/stable/reference/random/generated/numpy.random.normal.html) to generate $1000$ samples of $X$, denoted as $X_1,X_2,\\dots,X_{1000}$. We will assume our generated samples are *i.i.d.*.**\n",
    "\n",
    "**Note:** `loc` is the mean (“centre”) of the distribution, while `scale` is the **standard deviation** (spread or “width”) of the distribution."
   ]
  },
  {
   "cell_type": "code",
   "execution_count": null,
   "metadata": {},
   "outputs": [],
   "source": [
    "# insert your code here\n"
   ]
  },
  {
   "cell_type": "markdown",
   "metadata": {},
   "source": [
    "**2. Plot them using the function ```plt.plot()```.**"
   ]
  },
  {
   "cell_type": "code",
   "execution_count": null,
   "metadata": {},
   "outputs": [],
   "source": [
    "# insert your code here\n"
   ]
  },
  {
   "cell_type": "markdown",
   "metadata": {},
   "source": [
    "**3. Write Python functions to compute the sample mean and sample variance of equations (6) and (7) without using the predefined `mean()`, `variance()`, `np.mean()` and `np.var()` functions.**"
   ]
  },
  {
   "cell_type": "code",
   "execution_count": null,
   "metadata": {},
   "outputs": [],
   "source": [
    "def get_sample_mean(X):\n",
    "    \"\"\"\n",
    "    Parameters\n",
    "    ---\n",
    "    X: the samples of the random variable\n",
    "    \n",
    "    Returns\n",
    "    ---\n",
    "    mean_X: the sample mean of the random variable\n",
    "    \"\"\"\n",
    "    mean_X = None\n",
    "    return mean_X"
   ]
  },
  {
   "cell_type": "code",
   "execution_count": null,
   "metadata": {},
   "outputs": [],
   "source": [
    "def get_sample_var(X):\n",
    "    \"\"\"\n",
    "    Parameters\n",
    "    ---\n",
    "    X: the samples of the random variable\n",
    "    \n",
    "    Returns:\n",
    "    ---\n",
    "    var_X: the sample variance of the random variable\n",
    "    \"\"\"\n",
    "    var_X = None\n",
    "    return var_X"
   ]
  },
  {
   "cell_type": "markdown",
   "metadata": {},
   "source": [
    "**4. Use these functions to compute the sample mean and sample variance of the samples you just generated.**\n",
    "\n",
    "**Hint:** the following functions may be useful: ```np.sum()```and ```np.square```"
   ]
  },
  {
   "cell_type": "code",
   "execution_count": null,
   "metadata": {},
   "outputs": [],
   "source": [
    "# insert your code here\n"
   ]
  },
  {
   "cell_type": "markdown",
   "metadata": {},
   "source": [
    "<h3 style=\"color:red;\"><left>Exercise 2.2</left></h3>"
   ]
  },
  {
   "cell_type": "markdown",
   "metadata": {},
   "source": [
    "**1. Using the linearity property of expectation, find the mean $\\mu_Y$ and variance $\\sigma_Y^2$ of $Y$ in terms of $a,b,\\mu_X$ and $\\sigma_X^2$. Show your derivation in detail.**\n",
    "\n",
    "**Hint:** First find the mean, then substitute the result when finding the variance."
   ]
  },
  {
   "cell_type": "markdown",
   "metadata": {},
   "source": [
    "insert your answer here"
   ]
  },
  {
   "cell_type": "markdown",
   "metadata": {},
   "source": [
    "**2. Consider a linear transformation of a Gaussian random variable $X$ with mean $0$ and variance $1$. Calculate the constants $a$ and $b$ which make the mean and the variance of $Y$ $3$ and $9$, respectively.**"
   ]
  },
  {
   "cell_type": "markdown",
   "metadata": {},
   "source": [
    "insert your answer here"
   ]
  },
  {
   "cell_type": "markdown",
   "metadata": {},
   "source": [
    "**3. Use equation (5) to find the probability density function (PDF) for $Y$.**"
   ]
  },
  {
   "cell_type": "markdown",
   "metadata": {},
   "source": [
    "insert your answer here"
   ]
  },
  {
   "cell_type": "markdown",
   "metadata": {},
   "source": [
    "**4. Generate $1000$ samples of $X$, and then calculate $1000$ samples of $Y$ by applying the linear transformation in equation (10), using the $a$ and $b$ that you just determined.**"
   ]
  },
  {
   "cell_type": "code",
   "execution_count": null,
   "metadata": {},
   "outputs": [],
   "source": [
    "# insert your code here\n"
   ]
  },
  {
   "cell_type": "markdown",
   "metadata": {},
   "source": [
    "**5. Plot the resulting samples of $Y$.**"
   ]
  },
  {
   "cell_type": "code",
   "execution_count": null,
   "metadata": {},
   "outputs": [],
   "source": [
    "# insert your code here\n"
   ]
  },
  {
   "cell_type": "markdown",
   "metadata": {},
   "source": [
    "**6. Use your functions to calculate the sample mean and sample variance of the samples of $Y$.**"
   ]
  },
  {
   "cell_type": "code",
   "execution_count": null,
   "metadata": {},
   "outputs": [],
   "source": [
    "# insert your code here\n"
   ]
  },
  {
   "cell_type": "markdown",
   "metadata": {},
   "source": [
    "<h3 style=\"color:red;\"><left>Exercise 3.1</left></h3>"
   ]
  },
  {
   "cell_type": "markdown",
   "metadata": {},
   "source": [
    "**1. Write a function to compute the empirical CDF $\\hat{F}_X(t)$ from the sample vector $X$ at the points specified in the vector $t$.**\n",
    "\n",
    "**Hint:** The expression ```np.sum(X <= s)``` will return the number of elements in the vector ```X``` which are less than or equal to ```s```.**"
   ]
  },
  {
   "cell_type": "code",
   "execution_count": null,
   "metadata": {},
   "outputs": [],
   "source": [
    "def empcdf(X,t):\n",
    "    \"\"\"\n",
    "    Parameter\n",
    "    ---\n",
    "    X: the samples of the random variable\n",
    "    t: the samples of time\n",
    "    \n",
    "    Return\n",
    "    ---\n",
    "    F: the empirical CDF\n",
    "    \"\"\"\n",
    "    return F"
   ]
  },
  {
   "cell_type": "markdown",
   "metadata": {},
   "source": [
    "**2. For $N=20$ and $N=200$,**\n",
    "  * **Generate a sample of $\\text{Uniform}[0, 1]$ random variables using the function `X = np.random.uniform(0, 1, N)`.**\n",
    "  * **Plot the CDF estimate in the range ```t = np.linspace(-1, 2, 2000)```, and superimpose the true distribution for a $\\text{Uniform}[0, 1]$ random variable.**\n",
    "  \n",
    "**Note:** make sure the figures for $N=20$ and $N=200$ are plotted in separate cells."
   ]
  },
  {
   "cell_type": "code",
   "execution_count": null,
   "metadata": {},
   "outputs": [],
   "source": [
    "# N = 20\n"
   ]
  },
  {
   "cell_type": "code",
   "execution_count": null,
   "metadata": {},
   "outputs": [],
   "source": [
    "# N = 200\n"
   ]
  },
  {
   "cell_type": "markdown",
   "metadata": {},
   "source": [
    "<h3 style=\"color:red;\"><left>Exercise 4.1</left></h3>"
   ]
  },
  {
   "cell_type": "markdown",
   "metadata": {},
   "source": [
    "**1. Derive the required transformation.**"
   ]
  },
  {
   "cell_type": "markdown",
   "metadata": {},
   "source": [
    "insert your answer here"
   ]
  },
  {
   "cell_type": "markdown",
   "metadata": {},
   "source": [
    "**2. Generate samples of X when $N=20$ and $N=200$.**"
   ]
  },
  {
   "cell_type": "code",
   "execution_count": null,
   "metadata": {},
   "outputs": [],
   "source": [
    "# insert your code here\n"
   ]
  },
  {
   "cell_type": "code",
   "execution_count": null,
   "metadata": {},
   "outputs": [],
   "source": [
    "# N = 20\n"
   ]
  },
  {
   "cell_type": "code",
   "execution_count": null,
   "metadata": {},
   "outputs": [],
   "source": [
    "# N = 200\n"
   ]
  },
  {
   "cell_type": "markdown",
   "metadata": {},
   "source": [
    "<h3 style=\"color:red;\"><left>Exercise 5.1</left></h3>"
   ]
  },
  {
   "cell_type": "markdown",
   "metadata": {},
   "source": [
    "**1. Plot $F_X(x)$ for $x\\in[0, 1]$.**"
   ]
  },
  {
   "cell_type": "code",
   "execution_count": null,
   "metadata": {},
   "outputs": [],
   "source": [
    "# insert your code here\n"
   ]
  },
  {
   "cell_type": "markdown",
   "metadata": {},
   "source": [
    "**2. Analytically calculate the probability density $f_X(x)$, and plot it for $x \\in [0, 1]$.**"
   ]
  },
  {
   "cell_type": "code",
   "execution_count": null,
   "metadata": {},
   "outputs": [],
   "source": [
    "# insert your code here\n"
   ]
  },
  {
   "cell_type": "markdown",
   "metadata": {},
   "source": [
    "**3. Using $L = 20$, $x_0 = 0$ and $x_L = 1$, write code to compute $\\tilde{f}(k)$, the probability of $X$ falling into *$bin(k)$*. Plot $\\tilde{f}(k)$ for $k=1,\\dots,L$ using the ```plt.stem()``` function.**\n",
    "\n",
    "**Hint:** Use the fact that $\\tilde{f}(k) = F_X(x_k) − F_X(x_{k−1})$."
   ]
  },
  {
   "cell_type": "code",
   "execution_count": null,
   "metadata": {},
   "outputs": [],
   "source": [
    "# insert your code here\n"
   ]
  },
  {
   "cell_type": "markdown",
   "metadata": {},
   "source": [
    "**4. Show (mathematically) how $f_X(x)$ and $\\tilde{f}(k)$ are related.**"
   ]
  },
  {
   "cell_type": "markdown",
   "metadata": {},
   "source": [
    "insert your answer here"
   ]
  },
  {
   "cell_type": "markdown",
   "metadata": {},
   "source": [
    "**5. Generate $1000$ samples of a random variable $U$ that is uniformly distributed between $0$ and 1 (using the ```np.random.uniform(0, 1, 1000)```). Then form the random vector $X$ by computing $X=U^{1/3}$.**"
   ]
  },
  {
   "cell_type": "code",
   "execution_count": null,
   "metadata": {},
   "outputs": [],
   "source": [
    "# insert your code here\n"
   ]
  },
  {
   "cell_type": "markdown",
   "metadata": {},
   "source": [
    "**6. Use the Python function [```np.histogram()```](https://numpy.org/doc/stable/reference/generated/numpy.histogram.html) to plot a *normalized* histogram for your samples of $X$, using $20$ bins uniformly spaced on the interval $[0, 1]$. Use the ```plt.stem()``` command to plot the normalized histogram $H(k)/N$.**\n",
    "\n",
    "**Hint:** Use the Python command ```H, _ = np.histogram(X, bins=20, range=(0, 1))``` to obtain the normalized histogram. The underscore `_` means that whatever the second argument the function returns, I don't care and don't bother assigning it to a variable."
   ]
  },
  {
   "cell_type": "code",
   "execution_count": null,
   "metadata": {},
   "outputs": [],
   "source": [
    "# insert your code here\n"
   ]
  },
  {
   "cell_type": "markdown",
   "metadata": {},
   "source": [
    "**7. How do these plots ($H(k)/N$ and $\\tilde{f}(k)$) compare?**"
   ]
  },
  {
   "cell_type": "markdown",
   "metadata": {},
   "source": [
    "insert your answer here"
   ]
  },
  {
   "cell_type": "markdown",
   "metadata": {},
   "source": [
    "**8. Discuss the tradeoffs (advantages and the disadvantages) between selecting a very large or very small bin-width.**"
   ]
  },
  {
   "cell_type": "markdown",
   "metadata": {},
   "source": [
    "insert your answer here"
   ]
  }
 ],
 "metadata": {
  "kernelspec": {
   "display_name": "Python 3 (ipykernel)",
   "language": "python",
   "name": "python3"
  },
  "language_info": {
   "codemirror_mode": {
    "name": "ipython",
    "version": 3
   },
   "file_extension": ".py",
   "mimetype": "text/x-python",
   "name": "python",
   "nbconvert_exporter": "python",
   "pygments_lexer": "ipython3",
   "version": "3.8.1"
  }
 },
 "nbformat": 4,
 "nbformat_minor": 2
}
